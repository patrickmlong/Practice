{
 "cells": [
  {
   "cell_type": "code",
   "execution_count": 1,
   "metadata": {
    "collapsed": false
   },
   "outputs": [],
   "source": [
    "import re\n",
    "import time"
   ]
  },
  {
   "cell_type": "code",
   "execution_count": 2,
   "metadata": {
    "collapsed": false
   },
   "outputs": [
    {
     "name": "stdout",
     "output_type": "stream",
     "text": [
      "hello current time is: Tue May  2 22:51:29 2017\n"
     ]
    }
   ],
   "source": [
    "print('hello current time is: {0}'.format(time.ctime()))"
   ]
  },
  {
   "cell_type": "code",
   "execution_count": 8,
   "metadata": {
    "collapsed": false
   },
   "outputs": [
    {
     "name": "stdout",
     "output_type": "stream",
     "text": [
      "a\tb\n",
      "a\\tb\n",
      "a\\tb\n"
     ]
    }
   ],
   "source": [
    "s = 'a\\tb'\n",
    "sr = r'a\\tb'\n",
    "str2 = 'a\\\\tb'\n",
    "\n",
    "print(s)\n",
    "print(sr)\n",
    "print(str2)"
   ]
  },
  {
   "cell_type": "code",
   "execution_count": 9,
   "metadata": {
    "collapsed": true
   },
   "outputs": [],
   "source": [
    "def validation_example_one ():\n",
    "    # Purpose: Verify if the given text is made up of digits\n",
    "    pattern = r\"\\d+\"\n",
    "   \n",
    "    # successful match\n",
    "    text = \"1234\"\n",
    "    match = re.match(pattern, text)\n",
    "    \n",
    "    print ('Pattern {0}'.format(pattern))\n",
    "    \n",
    "    if match:\n",
    "        print ('***Match. Text: {0} Index: {1} Length: {2}'.format(\n",
    "                text, match.start(),len(match.group(0))))\n",
    "    else:\n",
    "        print ('***No Match. Text {0}'.format(text))\n",
    "        \n",
    "    # no match\n",
    "    text =  \"ABCD1234\"\n",
    "    match = re.match(pattern, text)\n",
    "    \n",
    "    if match:\n",
    "        print ('***Match. Text: {0} Index: {1} Length: {2}'.format(\n",
    "                text, match.start(),len(match.group(0))))\n",
    "    else:\n",
    "        print ('***No Match. Text {0}'.format(text))"
   ]
  },
  {
   "cell_type": "code",
   "execution_count": 10,
   "metadata": {
    "collapsed": false
   },
   "outputs": [
    {
     "name": "stdout",
     "output_type": "stream",
     "text": [
      "Pattern \\d+\n",
      "***Match. Text: 1234 Index: 0 Length: 4\n",
      "***No Match. Text ABCD1234\n"
     ]
    }
   ],
   "source": [
    "validation_example_one()"
   ]
  },
  {
   "cell_type": "code",
   "execution_count": 11,
   "metadata": {
    "collapsed": false
   },
   "outputs": [],
   "source": [
    "def validation_example_two ():\n",
    "    # Purpose: Verify if the given text is made up of digits\n",
    "    pattern = r\"\\d+\"\n",
    "   \n",
    "    # successful match\n",
    "    text = \"1234\"\n",
    "    match = re.search(pattern, text)\n",
    "    \n",
    "    print ('Pattern {0}'.format(pattern))\n",
    "    \n",
    "    if match:\n",
    "        print ('***Match. Text: {0} Index: {1} Length: {2}'.format(\n",
    "               text, match.start(),len(match.group(0))))\n",
    "    else:\n",
    "        print ('***No Match. Text {0}'.format(text))\n",
    "\n",
    "    # successful match\n",
    "    text = \"ABCD1234\"\n",
    "    match = re.search(pattern, text)\n",
    "    \n",
    "    if match:\n",
    "        print ('***Match. Text: {0} Index: {1} Length: {2}'.format(\n",
    "                text, match.start(),len(match.group(0))))\n",
    "    else:\n",
    "        print ('***No Match. Text {0}'.format(text))\n",
    "        \n",
    "        \n",
    "    # no match\n",
    "    text =  \"Hello World!\"\n",
    "    match = re.search(pattern, text)\n",
    "    \n",
    "    if match:\n",
    "        print ('***Match. Text: {0} Index: {1} Length: {2}'.format(\n",
    "                text, match.start(),len(match.group(0))))\n",
    "    else:\n",
    "        print ('***No Match. Text {0}'.format(text))"
   ]
  },
  {
   "cell_type": "code",
   "execution_count": 12,
   "metadata": {
    "collapsed": false
   },
   "outputs": [
    {
     "name": "stdout",
     "output_type": "stream",
     "text": [
      "Pattern \\d+\n",
      "***Match. Text: 1234 Index: 0 Length: 4\n",
      "***Match. Text: ABCD1234 Index: 4 Length: 4\n",
      "***No Match. Text Hello World!\n"
     ]
    }
   ],
   "source": [
    "validation_example_two()"
   ]
  },
  {
   "cell_type": "code",
   "execution_count": 13,
   "metadata": {
    "collapsed": false
   },
   "outputs": [],
   "source": [
    "def validation_example_three ():\n",
    "    # Purpose: Verify if the given text is made up of digits\n",
    "    pattern = r\"^\\d+$\"\n",
    "    positiveTest = [\"123456\", \"456\", \"321082\", \"0820102\"]\n",
    "    negativeTest = [\"ABCD\", \"A1234\", \"1234AB\", \"  123\", \"321  \", \"  111   \", \"123 4567\", \"123\\n456\"]\n",
    "\n",
    "    print ('Pattern {0}'.format(pattern))\n",
    "    \n",
    "    for text in positiveTest:\n",
    "        match = re.search(pattern, text)    \n",
    "        if match:\n",
    "            print ('***Match. Text: {0} Index: {1} Length: {2}'.format(\n",
    "                    text, match.start(),len(match.group(0))))\n",
    "        else:\n",
    "            print ('***No Match. Text {0}'.format(text))\n",
    "            raise ValueError('Positive Test. Expected successful match but failed {0}'.format(text))\n",
    "        \n",
    "        \n",
    "    for text in negativeTest:\n",
    "        match = re.search(pattern, text)\n",
    "        if match:\n",
    "            print ('***Match. Text: {0} Index: {1} Length: {2}'.format(\n",
    "                    text, match.start(),len(match.group(0))))\n",
    "            raise ValueError('Negative Test. Expected a failed match but succeeded. {0}'.format(text))\n",
    "        else:\n",
    "            print ('***No Match. Text {0}'.format(text))\n",
    "        \n"
   ]
  },
  {
   "cell_type": "code",
   "execution_count": 14,
   "metadata": {
    "collapsed": false
   },
   "outputs": [
    {
     "name": "stdout",
     "output_type": "stream",
     "text": [
      "Pattern ^\\d+$\n",
      "***Match. Text: 123456 Index: 0 Length: 6\n",
      "***Match. Text: 456 Index: 0 Length: 3\n",
      "***Match. Text: 321082 Index: 0 Length: 6\n",
      "***Match. Text: 0820102 Index: 0 Length: 7\n",
      "***No Match. Text ABCD\n",
      "***No Match. Text A1234\n",
      "***No Match. Text 1234AB\n",
      "***No Match. Text   123\n",
      "***No Match. Text 321  \n",
      "***No Match. Text   111   \n",
      "***No Match. Text 123 4567\n",
      "***No Match. Text 123\n",
      "456\n"
     ]
    }
   ],
   "source": [
    "validation_example_three()"
   ]
  },
  {
   "cell_type": "code",
   "execution_count": 48,
   "metadata": {
    "collapsed": false
   },
   "outputs": [],
   "source": [
    "def find_all_example():\n",
    "    # Purpose: Extract 5 digit postal codes\n",
    "    pattern = r\"\\b\\d{5}\\b\"\n",
    "    text = \"NY Postal Codes are 10001, 10002, 10003, 10004\"\n",
    "            \n",
    "    print ('Pattern {0}'.format(pattern))\n",
    "    # successful match\n",
    "    match = re.findall(pattern, text)\n",
    "    \n",
    "    print (match)"
   ]
  },
  {
   "cell_type": "code",
   "execution_count": 78,
   "metadata": {
    "collapsed": false
   },
   "outputs": [
    {
     "name": "stdout",
     "output_type": "stream",
     "text": [
      "<_sre.SRE_Match object at 0x105917ac0>\n"
     ]
    },
    {
     "data": {
      "text/plain": [
       "'house'"
      ]
     },
     "execution_count": 78,
     "metadata": {},
     "output_type": "execute_result"
    }
   ],
   "source": [
    "txt = 'house'\n",
    "pattern = r'\\w*'\n",
    "v = re.search(pattern, txt)\n",
    "print(v)\n",
    "v.group(0)"
   ]
  },
  {
   "cell_type": "code",
   "execution_count": 49,
   "metadata": {
    "collapsed": false
   },
   "outputs": [
    {
     "name": "stdout",
     "output_type": "stream",
     "text": [
      "Pattern \\b\\d{5}\\b\n",
      "['10001', '10002', '10003', '10004']\n"
     ]
    }
   ],
   "source": [
    "find_all_example()"
   ]
  },
  {
   "cell_type": "code",
   "execution_count": 46,
   "metadata": {
    "collapsed": false
   },
   "outputs": [],
   "source": [
    "\n",
    "def find_iter_example():\n",
    "    pattern = r\"\\b\\d{5}\\b\"\n",
    "    text = \"NY Postal Codes are 10001, 10002, 10003, 10004\"\n",
    "            \n",
    "    print ('Pattern {0}'.format(pattern))\n",
    "    print ('Text {0}'.format(text))\n",
    "    # successful match\n",
    "    match_iter = re.finditer(pattern, text)\n",
    " \n",
    "    for match in match_iter:\n",
    "        print ('***Match. Text: {0} Index: {1} Length: {2}'.format(\n",
    "               match.group(0), match.start(),len(match.group(0))))"
   ]
  },
  {
   "cell_type": "code",
   "execution_count": 47,
   "metadata": {
    "collapsed": false
   },
   "outputs": [
    {
     "name": "stdout",
     "output_type": "stream",
     "text": [
      "Pattern \\b\\d{5}\\b\n",
      "Text NY Postal Codes are 10001, 10002, 10003, 10004\n",
      "***Match. Text: 10001 Index: 20 Length: 5\n",
      "***Match. Text: 10002 Index: 27 Length: 5\n",
      "***Match. Text: 10003 Index: 34 Length: 5\n",
      "***Match. Text: 10004 Index: 41 Length: 5\n"
     ]
    }
   ],
   "source": [
    "find_iter_example()"
   ]
  },
  {
   "cell_type": "code",
   "execution_count": null,
   "metadata": {
    "collapsed": true
   },
   "outputs": [],
   "source": [
    "def group_by_name_example():\n",
    "    pattern = r\"(?P<year>\\d{4})(?P<month>\\d{2})(?P<day>\\d{2})(?P<hour>\\d{2})?\"\n",
    "    text = \"Timestamp=20160502\"\n",
    "            \n",
    "    print ('Pattern {0}'.format(pattern))\n",
    "    print ('Text {0}'.format(text))\n",
    "    # successful match\n",
    "    match_iter = re.finditer(pattern, text)\n",
    "    \n",
    "    for match in match_iter:\n",
    "        print ('Match. Text: {0} Index: {1} Length: {2}'.format(\n",
    "                match.group(0), match.start(),len(match.group(0))))\n",
    "        print ('Access group by name')\n",
    "        print ('  Year:  {0}'.format(match.group('year')))\n",
    "        print ('  Month: {0}'.format(match.group('month')))\n",
    "        print ('  Day:   {0}'.format(match.group('day')))    \n",
    "        print ('  Hour:  {0}'.format(match.group('hour')))          \n",
    "        print ('Access all named groups as a dictionary')\n",
    "        print ('   {0}'.format(match.groupdict()))"
   ]
  },
  {
   "cell_type": "code",
   "execution_count": null,
   "metadata": {
    "collapsed": false
   },
   "outputs": [],
   "source": [
    "group_by_name_example()"
   ]
  },
  {
   "cell_type": "code",
   "execution_count": null,
   "metadata": {
    "collapsed": false
   },
   "outputs": [],
   "source": [
    "def group_by_number_example():\n",
    "    # Optional last two digits\n",
    "    pattern = r\"(\\d{4})(\\d{2})(\\d{2})(\\d{2})?\"\n",
    "    text = \"Timestamp=20160502\"\n",
    "            \n",
    "    print ('Pattern {0}'.format(pattern))\n",
    "    print ('Text {0}'.format(text))\n",
    "    # successful match\n",
    "    match_iter = re.finditer(pattern, text)\n",
    "    \n",
    "    for match in match_iter:\n",
    "        print ('Match. Text: {0} Index: {1} Length: {2}'.format(\n",
    "                match.group(0), match.start(),len(match.group(0))))\n",
    "        \n",
    "        for i,value in enumerate(match.groups()):\n",
    "            print('  Group: {0}, Value: {1}'.format(i+1,value))\n",
    "        "
   ]
  },
  {
   "cell_type": "code",
   "execution_count": null,
   "metadata": {
    "collapsed": false
   },
   "outputs": [],
   "source": [
    "group_by_number_example()"
   ]
  },
  {
   "cell_type": "code",
   "execution_count": null,
   "metadata": {
    "collapsed": false
   },
   "outputs": [],
   "source": [
    "def substitution_example():\n",
    "    pattern = r\"(?P<value>\\d+(,\\d{3})*(\\.\\d{2})?)\\s+dollar(s)?\"\n",
    "    \n",
    "    replacement_pattern = r'**USD \\g<value>**'\n",
    "\n",
    "    text = \\\n",
    "'''Widget Unit cost: 12,000.56 dollars\n",
    "Taxes: 234.00 dollars\n",
    "Total: 12,234.56 dollars'''\n",
    "            \n",
    "    print ('Pattern: {0}'.format(pattern))\n",
    "    print ('---Text:\\n{0}'.format(text))\n",
    "    # successful match\n",
    "    new_text = re.sub(pattern, replacement_pattern, text)\n",
    "    \n",
    "    print('---New Text:\\n{0}'.format(new_text))"
   ]
  },
  {
   "cell_type": "code",
   "execution_count": null,
   "metadata": {
    "collapsed": false
   },
   "outputs": [],
   "source": [
    "substitution_example()"
   ]
  },
  {
   "cell_type": "code",
   "execution_count": null,
   "metadata": {
    "collapsed": false
   },
   "outputs": [],
   "source": [
    "def celsius_to_fahrenheit(match):\n",
    "    degCelsius =  float(match.group(\"celsius\"))\n",
    "    degF = 32.0 + (degCelsius * 9.0 / 5.0);\n",
    "    return '{0}°F'.format(degF);"
   ]
  },
  {
   "cell_type": "code",
   "execution_count": null,
   "metadata": {
    "collapsed": false
   },
   "outputs": [],
   "source": [
    "def substitution_example_custom_logic():\n",
    "    pattern = r\"(?P<celsius>\\d+)\\u00B0C\"\n",
    "    text = \"Today's temperature is 49°C\"\n",
    "            \n",
    "    print ('Pattern: {0}'.format(pattern))\n",
    "    print ('Text before: {0}'.format(text))\n",
    "        \n",
    "    new_text = re.sub(pattern, celsius_to_fahrenheit, text)\n",
    "    \n",
    "    print('Text after:  {0}'.format(new_text))"
   ]
  },
  {
   "cell_type": "code",
   "execution_count": null,
   "metadata": {
    "collapsed": false
   },
   "outputs": [],
   "source": [
    "substitution_example_custom_logic()"
   ]
  },
  {
   "cell_type": "code",
   "execution_count": null,
   "metadata": {
    "collapsed": true
   },
   "outputs": [],
   "source": [
    "def split_example():\n",
    "    pattern = r\"\\d+\\.\\s*\"\n",
    "    text = 'Here is the list...1.soccer  2. tennis 3.basketball 4.\\t\\tcricket'\n",
    "            \n",
    "    print ('Pattern: {0}'.format(pattern))\n",
    "    print ('Text Before: {0}'.format(text))\n",
    "    split_text = re.split(pattern, text)\n",
    "    print('Text after:')\n",
    "    for s in split_text:\n",
    "        print('  {0}'.format(s))"
   ]
  },
  {
   "cell_type": "code",
   "execution_count": null,
   "metadata": {
    "collapsed": false
   },
   "outputs": [],
   "source": [
    "split_example()"
   ]
  },
  {
   "cell_type": "code",
   "execution_count": null,
   "metadata": {
    "collapsed": false
   },
   "outputs": [],
   "source": [
    "def verbatim_string_example():\n",
    "    # Show difference between raw string versus regular string\n",
    "    regular_string = [ \"\\\\d\\t\\\\d\", \"\\\\d\\x09\\\\d\", \"\\\\\\\\server\\\\share\\\\file.txt\", \"Line1\\nLine2\"]\n",
    "    verbatim_string = [r\"\\d\\t\\d\", r\"\\d\\x09\\d\",  r\"\\\\server\\share\\file.txt\", r\"Line1\\nLine2\"]\n",
    "    \n",
    "    for i in range(len(regular_string)):\n",
    "        print ('***')\n",
    "        print ('Regular String: {0}'.format(regular_string[i]))\n",
    "        print ('Raw String: {0}'.format(verbatim_string[i]))"
   ]
  },
  {
   "cell_type": "code",
   "execution_count": null,
   "metadata": {
    "collapsed": false
   },
   "outputs": [],
   "source": [
    "verbatim_string_example()"
   ]
  },
  {
   "cell_type": "code",
   "execution_count": null,
   "metadata": {
    "collapsed": false
   },
   "outputs": [],
   "source": [
    "def unicode_flag_example():\n",
    "    # Purpose: Show differences in Locale, Unicode and Default option with regex\n",
    "    # With 3.x, default regex search is unicode enabled.  In 2.x, default is locale specific\n",
    "    unicode_text = \"தமிழ் Tamil, Hindi हिन्दी, Japanese 日本語,  1234.\"\n",
    "\n",
    "    print ('Text {0}'.format(unicode_text))\n",
    "    print ('')\n",
    "\n",
    "    pattern = r\"(?L)\\w+\"\n",
    "    print ('Pattern With Locale Flag: {0}'.format(pattern))\n",
    "    match_iter = re.finditer(pattern, unicode_text)\n",
    "\n",
    "    for match in match_iter:\n",
    "        print ('-->Text:{0}, Index:{1}, Length:{2}'.format(\n",
    "                match.group(0), match.start(),len(match.group(0))))\n",
    "    \n",
    "    print ('')\n",
    "    pattern = r\"(?u)\\w+\"\n",
    "    print ('Pattern With Unicode Flag: {0}'.format(pattern))\n",
    "    match_iter = re.finditer(pattern, unicode_text)\n",
    "    for match in match_iter:\n",
    "        print ('-->Text:{0}, Index:{1}, Length:{2}'.format(\n",
    "                match.group(0), match.start(),len(match.group(0))))\n",
    "    \n",
    "    print ('')\n",
    "    pattern = r\"\\w+\"\n",
    "    print ('Pattern Default Option: {0}'.format(pattern))\n",
    "    match_iter = re.finditer(pattern, unicode_text)\n",
    "    for match in match_iter:\n",
    "        print ('-->Text:{0}, Index:{1}, Length:{2}'.format(\n",
    "                match.group(0), match.start(),len(match.group(0))))    "
   ]
  },
  {
   "cell_type": "code",
   "execution_count": null,
   "metadata": {
    "collapsed": false
   },
   "outputs": [],
   "source": [
    "unicode_flag_example()"
   ]
  },
  {
   "cell_type": "code",
   "execution_count": null,
   "metadata": {
    "collapsed": false
   },
   "outputs": [],
   "source": [
    "def file_unicode_content_example():\n",
    "    # Purpose: Read a file, apply regex, print results\n",
    "    file_content = \\\n",
    "        open(r'C:\\RegexPythonCourse\\Data\\unicode\\TestUnicodeFile.txt','r',encoding='utf-8').read()\n",
    "    pattern = r\"(?u)\\w+\"\n",
    "    print ('Pattern {0}'.format(pattern))\n",
    "    print ('Text {0}'.format(file_content))\n",
    "    # successful match|\n",
    "    print('Match')\n",
    "    match_iter = re.finditer(pattern, file_content)\n",
    "    start_time = time.time()\n",
    "    for match in match_iter:\n",
    "        end_time = time.time()\n",
    "        print ('{0},{1},{2},{3:0.2f}'.format(\n",
    "                match.group(0), match.start(), \n",
    "                match.end()-match.start(), \n",
    "                end_time - start_time))"
   ]
  },
  {
   "cell_type": "code",
   "execution_count": null,
   "metadata": {
    "collapsed": false,
    "scrolled": true
   },
   "outputs": [],
   "source": [
    "file_unicode_content_example()"
   ]
  },
  {
   "cell_type": "code",
   "execution_count": null,
   "metadata": {
    "collapsed": true
   },
   "outputs": [],
   "source": []
  }
 ],
 "metadata": {
  "anaconda-cloud": {},
  "kernelspec": {
   "display_name": "Python [conda root]",
   "language": "python",
   "name": "conda-root-py"
  },
  "language_info": {
   "codemirror_mode": {
    "name": "ipython",
    "version": 2
   },
   "file_extension": ".py",
   "mimetype": "text/x-python",
   "name": "python",
   "nbconvert_exporter": "python",
   "pygments_lexer": "ipython2",
   "version": "2.7.12"
  }
 },
 "nbformat": 4,
 "nbformat_minor": 0
}
